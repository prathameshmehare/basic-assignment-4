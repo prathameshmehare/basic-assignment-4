{
 "cells": [
  {
   "cell_type": "code",
   "execution_count": null,
   "id": "91b6d07d",
   "metadata": {},
   "outputs": [],
   "source": [
    "1.what is exactly is []?\n",
    "ans = The empty list value which is a list value containno items. This is similar to how \"is the empty string vlaue ."
   ]
  },
  {
   "cell_type": "code",
   "execution_count": null,
   "id": "b5fc4501",
   "metadata": {},
   "outputs": [],
   "source": [
    "2.In a list of values stored in a variable called spam, how would you assign the value 'hellow' as the third value ?\n",
    "(assume [2,4,6,8,10] are in span.)\n",
    "ans = \n",
    "span = [2,4,6,8,10]\n",
    "span2 = \"hellow\""
   ]
  },
  {
   "cell_type": "code",
   "execution_count": 2,
   "id": "909dc663",
   "metadata": {},
   "outputs": [
    {
     "name": "stdout",
     "output_type": "stream",
     "text": [
      "[3]\n"
     ]
    }
   ],
   "source": [
    "#3.waht is the value of span[int(int('3'*2)/11)]?\n",
    "spam = ['a','b','c','d']\n",
    "spam1 = [int(int('3'*2)/11)]\n",
    "print(spam1)"
   ]
  },
  {
   "cell_type": "code",
   "execution_count": 3,
   "id": "e6c195c1",
   "metadata": {},
   "outputs": [
    {
     "data": {
      "text/plain": [
       "'d'"
      ]
     },
     "execution_count": 3,
     "metadata": {},
     "output_type": "execute_result"
    }
   ],
   "source": [
    "#4.what is the value of spam[-1]?\n",
    "spam[-1]\n",
    "#ans = 'd'\n"
   ]
  },
  {
   "cell_type": "code",
   "execution_count": 6,
   "id": "5fa46d38",
   "metadata": {},
   "outputs": [
    {
     "data": {
      "text/plain": [
       "['a', 'b']"
      ]
     },
     "execution_count": 6,
     "metadata": {},
     "output_type": "execute_result"
    }
   ],
   "source": [
    "#5.what is the value of spam[:2]?\n",
    "spam[:2]\n",
    "#ans = ['a','b']"
   ]
  },
  {
   "cell_type": "code",
   "execution_count": 9,
   "id": "59db80b8",
   "metadata": {},
   "outputs": [],
   "source": [
    "bacon = [3.14,'cat',11,'cat',True]\n",
    "#6.waht is the value of bacon.index('cat')?\n",
    "bacon.index('cat')\n",
    "ans = 1"
   ]
  },
  {
   "cell_type": "code",
   "execution_count": 11,
   "id": "495fd39c",
   "metadata": {},
   "outputs": [
    {
     "name": "stdout",
     "output_type": "stream",
     "text": [
      "[3.14, 'cat', 11, 'cat', True, 99, 99]\n"
     ]
    }
   ],
   "source": [
    "#7.how does bacon.append(99) change the look of the list value in bacon?\n",
    "bacon.append(99) \n",
    "print(bacon)\n",
    "#ans = [3.14, 'cat', 11, 'cat', True, 99, 99]"
   ]
  },
  {
   "cell_type": "code",
   "execution_count": 13,
   "id": "87437a06",
   "metadata": {},
   "outputs": [
    {
     "name": "stdout",
     "output_type": "stream",
     "text": [
      "[3.14, 11, True, 99, 99]\n"
     ]
    }
   ],
   "source": [
    "#8.how does bacon.remove('cat')?\n",
    "bacon.remove('cat')\n",
    "print(bacon)\n",
    "#ans = [3.14, 11, True, 99, 99]"
   ]
  },
  {
   "cell_type": "code",
   "execution_count": 15,
   "id": "68008d7a",
   "metadata": {},
   "outputs": [],
   "source": [
    "#9.what are the list concatination and lsit replication operators?\n",
    "#Ans = the operator for the concatination is + ,while the operator for replication is *.(this is the same as that for two string)"
   ]
  },
  {
   "cell_type": "code",
   "execution_count": 16,
   "id": "6a60dd23",
   "metadata": {},
   "outputs": [],
   "source": [
    "#10.what is the difference between  the list method append() and insert()?\n",
    "#The difference is that with append, you just add a new entry at the end of the list.With insert (position ,new entry) you can \n",
    "#create a new entry exacatly in the position you want"
   ]
  },
  {
   "cell_type": "code",
   "execution_count": 17,
   "id": "ee1e537f",
   "metadata": {},
   "outputs": [],
   "source": [
    "#11.what are the two methods for removing items from a list?\n",
    "#ans = The methods are remove(),pop(),clear().it helps to remove the very first given element matching from the list\n",
    "#The pop() method removes an element from the lsit based on the given index.The clear() method will remove all the elements \n",
    "#present in the list "
   ]
  },
  {
   "cell_type": "code",
   "execution_count": 18,
   "id": "97d041ad",
   "metadata": {},
   "outputs": [],
   "source": [
    "#12.define how list values and string values are identical.\n",
    "#ans = The values that make up a list are called its elements.List are similar to strings,which are ordered\n",
    "#collection of characters,except that  the elements of a list can have any type and for any one list, the items \n",
    "#the items can be of different type .As we said above,the elements of a list don't have to be the same type "
   ]
  },
  {
   "cell_type": "code",
   "execution_count": 19,
   "id": "b3127b4f",
   "metadata": {},
   "outputs": [],
   "source": [
    "#13.what is the differnce between tuples and list ?\n",
    "#ans = The key difference between tuples and list is that while the tuples are imutable object the list\n",
    "#mutable .This means that tuples can not be changed while list can be modified .Tuples are more memory efficient\n",
    "#than the lists "
   ]
  },
  {
   "cell_type": "code",
   "execution_count": 23,
   "id": "e36e8a59",
   "metadata": {},
   "outputs": [
    {
     "name": "stdout",
     "output_type": "stream",
     "text": [
      "(42,)\n"
     ]
    }
   ],
   "source": [
    "#14.How do you type a tuple that only contains the integers  42?\n",
    "tuple = (42,)\n",
    "print(tuple)"
   ]
  },
  {
   "cell_type": "code",
   "execution_count": 24,
   "id": "6f133192",
   "metadata": {},
   "outputs": [],
   "source": [
    "#15.how do you get tuples values form?How do you get a tuple values list from?\n",
    "#ans = method 1 using zip(),iter(),map() function .\n"
   ]
  },
  {
   "cell_type": "code",
   "execution_count": 25,
   "id": "433557cf",
   "metadata": {},
   "outputs": [],
   "source": [
    "#16.variables that \"contain \" list values are not neccessarly lists themselves.insted what do they contain?\n",
    "#ans = variables will \"contain references\" to list values rather than list values themselfs . but for string  and integer  values, variables\n",
    "#simply contain the string or integer value ."
   ]
  },
  {
   "cell_type": "code",
   "execution_count": 27,
   "id": "d55bfc98",
   "metadata": {},
   "outputs": [],
   "source": [
    "#17.how to distigwisg between copy() and copy.deepcopy()?\n",
    "#ans = A shallow copy construct a new compound object and then (to the extent possible ) inserts refernces into it to the objects \n",
    "#found in the orinal \n",
    "#A deep copy construct a new constructs a new compound objects and then recursively inserts copies into it of the objects found \n",
    "#in the orignal ."
   ]
  },
  {
   "cell_type": "code",
   "execution_count": null,
   "id": "07b28984",
   "metadata": {},
   "outputs": [],
   "source": []
  }
 ],
 "metadata": {
  "kernelspec": {
   "display_name": "Python 3 (ipykernel)",
   "language": "python",
   "name": "python3"
  },
  "language_info": {
   "codemirror_mode": {
    "name": "ipython",
    "version": 3
   },
   "file_extension": ".py",
   "mimetype": "text/x-python",
   "name": "python",
   "nbconvert_exporter": "python",
   "pygments_lexer": "ipython3",
   "version": "3.9.7"
  }
 },
 "nbformat": 4,
 "nbformat_minor": 5
}
